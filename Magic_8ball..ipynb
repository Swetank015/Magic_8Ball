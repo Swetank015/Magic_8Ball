{
  "nbformat": 4,
  "nbformat_minor": 0,
  "metadata": {
    "colab": {
      "provenance": []
    },
    "kernelspec": {
      "name": "python3",
      "display_name": "Python 3"
    },
    "language_info": {
      "name": "python"
    }
  },
  "cells": [
    {
      "cell_type": "code",
      "execution_count": 4,
      "metadata": {
        "colab": {
          "base_uri": "https://localhost:8080/"
        },
        "id": "JOTPw_lO_7G4",
        "outputId": "4e95f972-e342-44bc-fb63-5c473d94c563"
      },
      "outputs": [
        {
          "output_type": "stream",
          "name": "stdout",
          "text": [
            "random_number\n",
            "Swetank asks: Will i win the lottery\n",
            "Magic 8-Ball's answer: Very doubtful\n"
          ]
        }
      ],
      "source": [
        "import random\n",
        "\n",
        "name = \"Swetank\"\n",
        "question = \"Will i win the lottery\"\n",
        "answer = \"\"\n",
        "\n",
        "random_number = random.randint(1,9)\n",
        "print(\"random_number\")\n",
        "\n",
        "if random_number == 1:\n",
        "  answer = \"Yes - definitely\"\n",
        "elif random_number == 2:\n",
        "  answer = \"It is decidedly so\"\n",
        "elif random_number == 3:\n",
        "  answer = \"Without a doubt\"\n",
        "elif random_number == 4:\n",
        "  answer = \"Reply hazy, try again\"\n",
        "elif random_number == 5:\n",
        "  answer = \"Ask again later\"\n",
        "elif random_number == 6:\n",
        "  answer = \"Better not tel you now\"\n",
        "elif random_number == 7:\n",
        "  answer = \"My sources say no\"\n",
        "elif random_number == 8:\n",
        "  answer = \"Outlook not so good\"\n",
        "elif random_number == 9:\n",
        "  answer = \"Very doubtful\"\n",
        "else:\n",
        "  answer = \"Error\"\n",
        "\n",
        "print(name + \" asks: \" + question)\n",
        "print(\"Magic 8-Ball's answer: \" + answer)\n",
        "\n",
        "\n",
        "\n"
      ]
    },
    {
      "cell_type": "code",
      "source": [],
      "metadata": {
        "id": "Y6vcGmv9AP_p"
      },
      "execution_count": 2,
      "outputs": []
    }
  ]
}